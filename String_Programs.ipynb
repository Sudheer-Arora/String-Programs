{
  "nbformat": 4,
  "nbformat_minor": 0,
  "metadata": {
    "colab": {
      "provenance": [],
      "authorship_tag": "ABX9TyNIZl0y+ryjT60+XNHQ7Cqc",
      "include_colab_link": true
    },
    "kernelspec": {
      "name": "python3",
      "display_name": "Python 3"
    },
    "language_info": {
      "name": "python"
    }
  },
  "cells": [
    {
      "cell_type": "markdown",
      "metadata": {
        "id": "view-in-github",
        "colab_type": "text"
      },
      "source": [
        "<a href=\"https://colab.research.google.com/github/Sudheer-Arora/String-Programs/blob/main/String_Programs.ipynb\" target=\"_parent\"><img src=\"https://colab.research.google.com/assets/colab-badge.svg\" alt=\"Open In Colab\"/></a>"
      ]
    },
    {
      "cell_type": "code",
      "source": [
        "#Slicing operator in string.\n",
        "s=input('Enter the any string:')\n",
        "print(s)\n",
        "print(s[6])\n",
        "print(s[-3])\n",
        "print(s[-1: :-1])\n",
        "print(s[0:4])\n",
        "print(s[0:7:2])"
      ],
      "metadata": {
        "colab": {
          "base_uri": "https://localhost:8080/"
        },
        "id": "hp6zxBGxJWjk",
        "outputId": "5736b225-b5c1-4aaa-fdae-eed4f173bff0"
      },
      "execution_count": 4,
      "outputs": [
        {
          "output_type": "stream",
          "name": "stdout",
          "text": [
            "Enter the any string:\"Thapar\"\n",
            "\"Thapar\"\n",
            "r\n",
            "a\n",
            "\"rapahT\"\n",
            "\"Tha\n",
            "\"hpr\n"
          ]
        }
      ]
    },
    {
      "cell_type": "code",
      "source": [
        "#operations\n",
        "s1=\"hello sudheer\"\n",
        "s2=\"hi sudheer\"\n",
        "if s1==s2:\n",
        "    print('equal')\n",
        "else:\n",
        "    print('not equal')\n",
        "s3=s1+s2\n",
        "print(s3)\n",
        "for i in s1:\n",
        "    print(i)\n",
        "if 'ee' in s2:\n",
        "    print('yes')\n",
        "else:\n",
        "    print('no')"
      ],
      "metadata": {
        "colab": {
          "base_uri": "https://localhost:8080/"
        },
        "id": "Xv3W-dDcKQiM",
        "outputId": "f812d125-212f-459a-a4c2-7e5474cff544"
      },
      "execution_count": 5,
      "outputs": [
        {
          "output_type": "stream",
          "name": "stdout",
          "text": [
            "not equal\n",
            "hello sudheerhi sudheer\n",
            "h\n",
            "e\n",
            "l\n",
            "l\n",
            "o\n",
            " \n",
            "s\n",
            "u\n",
            "d\n",
            "h\n",
            "e\n",
            "e\n",
            "r\n",
            "yes\n"
          ]
        }
      ]
    },
    {
      "cell_type": "code",
      "source": [
        "#function\n",
        "print(len(s1))\n",
        "print(len(s2))"
      ],
      "metadata": {
        "colab": {
          "base_uri": "https://localhost:8080/"
        },
        "id": "vcmfnSSeKdgb",
        "outputId": "21f7c9af-1a8b-4ca5-97a2-efbc18314a59"
      },
      "execution_count": 8,
      "outputs": [
        {
          "output_type": "stream",
          "name": "stdout",
          "text": [
            "13\n",
            "10\n"
          ]
        }
      ]
    },
    {
      "cell_type": "code",
      "source": [
        "#methods\n",
        "print(s1.upper())\n",
        "print(s2.lower())\n",
        "s3=s2.replace(\"e\",'i')\n",
        "print(s3)\n",
        "x =s1.find('o')\n",
        "print(x)\n",
        "l1=s1.split()\n",
        "print(l1)\n",
        "if s1.startswith(\"s\"):\n",
        "    print(\"hi\")\n",
        "else:\n",
        "    print(\"bye\")\n",
        "if s2.endswith(\"r\"):\n",
        "    print(\"hi\")\n",
        "else:\n",
        "    print(\"bye\")\n",
        "print(s1.isalpha())\n",
        "y=s1.index('o')\n",
        "print(y)"
      ],
      "metadata": {
        "colab": {
          "base_uri": "https://localhost:8080/"
        },
        "id": "3PlDTmDgKrmB",
        "outputId": "3b8ad975-bca1-4207-a05b-345a0c338f68"
      },
      "execution_count": 9,
      "outputs": [
        {
          "output_type": "stream",
          "name": "stdout",
          "text": [
            "HELLO SUDHEER\n",
            "hi sudheer\n",
            "hi sudhiir\n",
            "4\n",
            "['hello', 'sudheer']\n",
            "bye\n",
            "hi\n",
            "False\n",
            "4\n"
          ]
        }
      ]
    }
  ]
}